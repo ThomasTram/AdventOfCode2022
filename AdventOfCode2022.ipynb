{
 "cells": [
  {
   "cell_type": "code",
   "execution_count": 1,
   "id": "310b68c3",
   "metadata": {},
   "outputs": [],
   "source": [
    "import numpy as np\n",
    "import heapq\n",
    "from collections import deque "
   ]
  },
  {
   "cell_type": "code",
   "execution_count": 2,
   "id": "0e024bf4",
   "metadata": {},
   "outputs": [
    {
     "name": "stdout",
     "output_type": "stream",
     "text": [
      "69795\n",
      "208437\n"
     ]
    }
   ],
   "source": [
    "# Day 1\n",
    "# Part A\n",
    "calories = [0]\n",
    "with open('day1.txt') as fid:\n",
    "    for line in fid:\n",
    "        if line[0] == '\\n':\n",
    "            calories.append(0)\n",
    "            continue\n",
    "        calories[-1] += int(line[:-1])\n",
    "calories.sort()\n",
    "print(calories[-1])\n",
    "# Part B\n",
    "print(sum(calories[-3:]))"
   ]
  },
  {
   "cell_type": "code",
   "execution_count": 3,
   "id": "ba5c0739",
   "metadata": {},
   "outputs": [
    {
     "name": "stdout",
     "output_type": "stream",
     "text": [
      "11767\n",
      "13886\n"
     ]
    }
   ],
   "source": [
    "# Day 2\n",
    "# Part A\n",
    "l, r = np.loadtxt('day2.txt', dtype=int, unpack=True,\n",
    "                  converters={0:lambda s: {b'A':1, b'B':2, b'C':3}[s], 1:lambda s: {b'X':1, b'Y':2, b'Z':3}[s]})\n",
    "print(sum((((r + 3 - l) % 3 + 1) % 3)*3 + r))\n",
    "# Part B\n",
    "print(sum((r - 1)*3 +  (l + r) % 3 + 1))\n"
   ]
  },
  {
   "cell_type": "code",
   "execution_count": 4,
   "id": "a1c30dc6",
   "metadata": {},
   "outputs": [
    {
     "name": "stdout",
     "output_type": "stream",
     "text": [
      "7824\n",
      "2798\n"
     ]
    }
   ],
   "source": [
    "# Day 3\n",
    "# Part A\n",
    "with open('day3.txt') as fid:\n",
    "    all_lines = fid.readlines()\n",
    "priorities = 0\n",
    "for line in all_lines:\n",
    "    n = (len(line) - 1)//2\n",
    "    common_letter = (set(line[:n]) & set(line[n:-1])).pop()\n",
    "    priorities += ord(common_letter) - (96 if common_letter.islower() else 38)\n",
    "print(priorities)\n",
    "# Part B\n",
    "priorities = 0\n",
    "for j in range(len(all_lines)//3):\n",
    "    common_letter = (set(all_lines[3*j + 0][:-1]) & set(all_lines[3*j + 1][:-1]) & set(all_lines[3*j + 2][:-1])).pop()\n",
    "    priorities += ord(common_letter) - (96 if common_letter.islower() else 38)\n",
    "print(priorities)\n",
    "        "
   ]
  },
  {
   "cell_type": "code",
   "execution_count": 5,
   "id": "232f5764",
   "metadata": {},
   "outputs": [
    {
     "name": "stdout",
     "output_type": "stream",
     "text": [
      "602\n",
      "891\n"
     ]
    }
   ],
   "source": [
    "# Day 4\n",
    "# Part A\n",
    "with open('day4.txt') as fid:\n",
    "    data = np.array([list(map(int, couple.split('-'))) for couple in fid.read().strip().replace(',','-').split('\\n')], dtype=int)\n",
    "print((((data[:,3] >= data[:,1]) & (data[:,2] <= data[:,0])) | ((data[:,3] <= data[:,1]) & (data[:,2] >= data[:,0]))).sum())\n",
    "# Part B\n",
    "print((np.maximum(data[:,0], data[:,2]) <= np.minimum(data[:,1], data[:,3])).sum())"
   ]
  },
  {
   "cell_type": "code",
   "execution_count": 6,
   "id": "7530251f",
   "metadata": {},
   "outputs": [
    {
     "name": "stdout",
     "output_type": "stream",
     "text": [
      "BSDMQFLSP\n",
      "PGSQBFLDP\n"
     ]
    }
   ],
   "source": [
    "# Day 5\n",
    "# Part A\n",
    "with open('day5.txt') as fid:\n",
    "    stacks_ini_lines, movement = fid.read().split('\\n\\n')\n",
    "stacks = ['']*10\n",
    "for line in stacks_ini_lines.split('\\n')[:-1]:\n",
    "    for j in range(1, 10):\n",
    "        stacks[j] += line[4*(j - 1) + 1]\n",
    "stacks = [s.strip()[::-1] for s in stacks]\n",
    "\n",
    "def get_top_crates_after_movement(stacks, movements, order=1):\n",
    "    for line in movement.strip().split('\\n'):\n",
    "        tmp = line.split()\n",
    "        n, fro, to = int(tmp[1]), int(tmp[3]), int(tmp[5])\n",
    "        stacks[fro], crates_on_crane = stacks[fro][:-n], stacks[fro][-n:]\n",
    "        stacks[to] += crates_on_crane[::order]\n",
    "    return ''.join([stacks[j][-1] for j in range(1, 10)])\n",
    "\n",
    "for order in [-1, 1]:\n",
    "    print(get_top_crates_after_movement([s for s in stacks], movement.strip().split('\\n'), order))"
   ]
  },
  {
   "cell_type": "code",
   "execution_count": 7,
   "id": "1dd82277",
   "metadata": {},
   "outputs": [
    {
     "name": "stdout",
     "output_type": "stream",
     "text": [
      "1647\n",
      "2447\n"
     ]
    }
   ],
   "source": [
    "# Day 6\n",
    "# Part A\n",
    "with open('day6.txt') as fid:\n",
    "    data = fid.read()\n",
    "for i in range(4, len(data)):\n",
    "    if len(set(data[i-4:i])) == 4:\n",
    "        break\n",
    "print(i)\n",
    "# Part B\n",
    "for i in range(14, len(data)):\n",
    "    if len(set(data[i-14:i])) == 14:\n",
    "        break\n",
    "print(i)"
   ]
  },
  {
   "cell_type": "code",
   "execution_count": 8,
   "id": "8cb6a274",
   "metadata": {},
   "outputs": [
    {
     "name": "stdout",
     "output_type": "stream",
     "text": [
      "1647\n",
      "2447\n"
     ]
    }
   ],
   "source": [
    "# Day 6, fastest version: 642 µs vs 2.01 ms \n",
    "from collections import defaultdict\n",
    "with open('day6.txt', 'rb') as f:\n",
    "    data = f.read()\n",
    "def index_of_unique_substring(occurences=1):\n",
    "    n_unique = 0\n",
    "    last_index_of_letter = defaultdict(lambda: -occurences)\n",
    "    for i, c in enumerate(data):\n",
    "        last_index, last_index_of_letter[c] = last_index_of_letter[c], i\n",
    "        n_unique = n_unique + 1 if last_index < i - n_unique else i - last_index\n",
    "        if n_unique == occurences:\n",
    "            return i + 1\n",
    "# Part A\n",
    "print(index_of_unique_substring(4))\n",
    "# Part B\n",
    "print(index_of_unique_substring(14))"
   ]
  },
  {
   "cell_type": "code",
   "execution_count": 9,
   "id": "2ba1c096",
   "metadata": {},
   "outputs": [
    {
     "name": "stdout",
     "output_type": "stream",
     "text": [
      "1232307\n",
      "7268994\n"
     ]
    }
   ],
   "source": [
    "# Day 7\n",
    "# Part A\n",
    "with open('day7.txt') as fid:\n",
    "    commands = fid.read().strip().split('\\n')\n",
    "all_dir = []\n",
    "path = []\n",
    "N = len(commands)\n",
    "index_cmd = 0\n",
    "while (index_cmd < N):\n",
    "    cmd = commands[index_cmd]\n",
    "    index_cmd += 1\n",
    "    if cmd[:4] == '$ cd':\n",
    "        name = cmd[5:]\n",
    "        if name == '..':\n",
    "            path.pop()\n",
    "        elif name == '/':\n",
    "            path.append('root')\n",
    "        else:\n",
    "            path.append(name)\n",
    "    elif cmd[:4] == '$ ls':\n",
    "        size_in_dir = 0\n",
    "        while index_cmd < N and commands[index_cmd][0] != '$':\n",
    "            int_or_dir, name = commands[index_cmd].split()\n",
    "            if int_or_dir != 'dir':\n",
    "                size_in_dir += int(int_or_dir)\n",
    "            index_cmd += 1\n",
    "        level = len(path) - 1\n",
    "        if level >= len(all_dir):\n",
    "            all_dir.append(defaultdict(int))\n",
    "        all_dir[level]['/'.join(path)] = size_in_dir\n",
    "\n",
    "for level in range(len(all_dir) - 1, 0, -1):\n",
    "    for key, val in all_dir[level].items():\n",
    "        parent = key[:key.rfind('/')]\n",
    "        all_dir[level - 1][parent] += val\n",
    "\n",
    "single_dict = {}\n",
    "for d in all_dir:\n",
    "    single_dict = single_dict | d\n",
    "\n",
    "print(sum([val for val in single_dict.values() if val <= 100000]))\n",
    "\n",
    "# Part B\n",
    "space_needed = 30000000 - (70000000 - single_dict['root'])\n",
    "diff = single_dict['root'] - space_needed\n",
    "for key, val in single_dict.items():\n",
    "    newdiff = val - space_needed\n",
    "    if newdiff > 0 and newdiff < diff:\n",
    "        diff = newdiff\n",
    "print(diff + space_needed)"
   ]
  }
 ],
 "metadata": {
  "kernelspec": {
   "display_name": "Python 3 (ipykernel)",
   "language": "python",
   "name": "python3"
  },
  "language_info": {
   "codemirror_mode": {
    "name": "ipython",
    "version": 3
   },
   "file_extension": ".py",
   "mimetype": "text/x-python",
   "name": "python",
   "nbconvert_exporter": "python",
   "pygments_lexer": "ipython3",
   "version": "3.9.7"
  }
 },
 "nbformat": 4,
 "nbformat_minor": 5
}
