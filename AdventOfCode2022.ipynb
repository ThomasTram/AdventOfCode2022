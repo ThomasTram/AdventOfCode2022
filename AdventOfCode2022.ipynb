{
 "cells": [
  {
   "cell_type": "code",
   "execution_count": 1,
   "id": "310b68c3",
   "metadata": {},
   "outputs": [],
   "source": [
    "import numpy as np\n",
    "import heapq\n",
    "from collections import deque "
   ]
  },
  {
   "cell_type": "code",
   "execution_count": 2,
   "id": "0e024bf4",
   "metadata": {},
   "outputs": [
    {
     "name": "stdout",
     "output_type": "stream",
     "text": [
      "69795\n",
      "208437\n"
     ]
    }
   ],
   "source": [
    "# Day 1\n",
    "# Part A\n",
    "calories = [0]\n",
    "with open('day1.txt') as fid:\n",
    "    for line in fid:\n",
    "        if line[0] == '\\n':\n",
    "            calories.append(0)\n",
    "            continue\n",
    "        calories[-1] += int(line[:-1])\n",
    "calories.sort()\n",
    "print(calories[-1])\n",
    "# Part B\n",
    "print(sum(calories[-3:]))"
   ]
  },
  {
   "cell_type": "code",
   "execution_count": 3,
   "id": "10b8b5ff",
   "metadata": {},
   "outputs": [
    {
     "name": "stdout",
     "output_type": "stream",
     "text": [
      "11767\n",
      "13886\n"
     ]
    }
   ],
   "source": [
    "# Day 2\n",
    "# Part A\n",
    "l, r = np.loadtxt('day2.txt', dtype=int, unpack=True,\n",
    "                  converters={0:lambda s: {b'A':1, b'B':2, b'C':3}[s], 1:lambda s: {b'X':1, b'Y':2, b'Z':3}[s]})\n",
    "print(sum((((r + 3 - l) % 3 + 1) % 3)*3 + r))\n",
    "# Part B\n",
    "print(sum((r - 1)*3 +  (l + r) % 3 + 1))\n"
   ]
  },
  {
   "cell_type": "code",
   "execution_count": 4,
   "id": "ed98fc18",
   "metadata": {},
   "outputs": [
    {
     "name": "stdout",
     "output_type": "stream",
     "text": [
      "7824\n",
      "2798\n"
     ]
    }
   ],
   "source": [
    "# Day 3\n",
    "# Part A\n",
    "with open('day3.txt') as fid:\n",
    "    all_lines = fid.readlines()\n",
    "priorities = 0\n",
    "for line in all_lines:\n",
    "    n = (len(line) - 1)//2\n",
    "    common_letter = (set(line[:n]) & set(line[n:-1])).pop()\n",
    "    priorities += ord(common_letter) - (96 if common_letter.islower() else 38)\n",
    "print(priorities)\n",
    "# Part B\n",
    "priorities = 0\n",
    "for j in range(len(all_lines)//3):\n",
    "    common_letter = (set(all_lines[3*j + 0][:-1]) & set(all_lines[3*j + 1][:-1]) & set(all_lines[3*j + 2][:-1])).pop()\n",
    "    priorities += ord(common_letter) - (96 if common_letter.islower() else 38)\n",
    "print(priorities)\n",
    "        "
   ]
  },
  {
   "cell_type": "code",
   "execution_count": 5,
   "id": "75ceafda",
   "metadata": {},
   "outputs": [
    {
     "name": "stdout",
     "output_type": "stream",
     "text": [
      "602\n",
      "891\n"
     ]
    }
   ],
   "source": [
    "# Day 4\n",
    "# Part A\n",
    "with open('day4.txt') as fid:\n",
    "    data = np.array([list(map(int, couple.split('-'))) for couple in fid.read().strip().replace(',','-').split('\\n')], dtype=int)\n",
    "print((((data[:,3] >= data[:,1]) & (data[:,2] <= data[:,0])) | ((data[:,3] <= data[:,1]) & (data[:,2] >= data[:,0]))).sum())\n",
    "# Part B\n",
    "print((np.maximum(data[:,0], data[:,2]) <= np.minimum(data[:,1], data[:,3])).sum())"
   ]
  },
  {
   "cell_type": "code",
   "execution_count": 6,
   "id": "477aef99",
   "metadata": {},
   "outputs": [
    {
     "name": "stdout",
     "output_type": "stream",
     "text": [
      "BSDMQFLSP\n",
      "PGSQBFLDP\n"
     ]
    }
   ],
   "source": [
    "# Day 5\n",
    "# Part A\n",
    "with open('day5.txt') as fid:\n",
    "    stacks_ini_lines, movement = fid.read().split('\\n\\n')\n",
    "stacks = ['']*10\n",
    "for line in stacks_ini_lines.split('\\n')[:-1]:\n",
    "    for j in range(1, 10):\n",
    "        stacks[j] += line[4*(j - 1) + 1]\n",
    "stacks = [s.strip()[::-1] for s in stacks]\n",
    "\n",
    "def get_top_crates_after_movement(stacks, movements, order=1):\n",
    "    for line in movement.strip().split('\\n'):\n",
    "        tmp = line.split()\n",
    "        n, fro, to = int(tmp[1]), int(tmp[3]), int(tmp[5])\n",
    "        stacks[fro], crates_on_crane = stacks[fro][:-n], stacks[fro][-n:]\n",
    "        stacks[to] += crates_on_crane[::order]\n",
    "    return ''.join([stacks[j][-1] for j in range(1, 10)])\n",
    "\n",
    "for order in [-1, 1]:\n",
    "    print(get_top_crates_after_movement([s for s in stacks], movement.strip().split('\\n'), order))"
   ]
  },
  {
   "cell_type": "code",
   "execution_count": 7,
   "id": "6eba018d",
   "metadata": {},
   "outputs": [
    {
     "name": "stdout",
     "output_type": "stream",
     "text": [
      "1647\n",
      "2447\n"
     ]
    }
   ],
   "source": [
    "# Day 6\n",
    "# Part A\n",
    "with open('day6.txt') as fid:\n",
    "    data = fid.read()\n",
    "for i in range(4, len(data)):\n",
    "    if len(set(data[i-4:i])) == 4:\n",
    "        break\n",
    "print(i)\n",
    "# Part B\n",
    "for i in range(14, len(data)):\n",
    "    if len(set(data[i-14:i])) == 14:\n",
    "        break\n",
    "print(i)"
   ]
  },
  {
   "cell_type": "code",
   "execution_count": 8,
   "id": "1c3e64b5",
   "metadata": {},
   "outputs": [
    {
     "name": "stdout",
     "output_type": "stream",
     "text": [
      "1647\n",
      "2447\n"
     ]
    }
   ],
   "source": [
    "# Day 6, fast version: 784 µs vs 2.01 ms \n",
    "with open('day6.txt') as fid:\n",
    "    data = fid.read()\n",
    "\n",
    "def index_of_unique_substring(occurences=1):\n",
    "    n_unique = 0\n",
    "    last_index_of_letter = {}\n",
    "    for i, c in enumerate(data):\n",
    "        if c not in last_index_of_letter or last_index_of_letter[c] < i - n_unique:\n",
    "            n_unique += 1\n",
    "        else:\n",
    "            n_unique = i - last_index_of_letter[c]\n",
    "        last_index_of_letter[c] = i\n",
    "        if n_unique == occurences:\n",
    "            return i + 1\n",
    "# Part A\n",
    "print(index_of_unique_substring(4))\n",
    "# Part B\n",
    "print(index_of_unique_substring(14))"
   ]
  },
  {
   "cell_type": "code",
   "execution_count": null,
   "id": "203e0444",
   "metadata": {},
   "outputs": [],
   "source": []
  }
 ],
 "metadata": {
  "kernelspec": {
   "display_name": "Python 3 (ipykernel)",
   "language": "python",
   "name": "python3"
  },
  "language_info": {
   "codemirror_mode": {
    "name": "ipython",
    "version": 3
   },
   "file_extension": ".py",
   "mimetype": "text/x-python",
   "name": "python",
   "nbconvert_exporter": "python",
   "pygments_lexer": "ipython3",
   "version": "3.9.7"
  }
 },
 "nbformat": 4,
 "nbformat_minor": 5
}
