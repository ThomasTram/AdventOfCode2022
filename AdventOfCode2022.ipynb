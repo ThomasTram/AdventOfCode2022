{
 "cells": [
  {
   "cell_type": "code",
   "execution_count": 1,
   "id": "310b68c3",
   "metadata": {},
   "outputs": [],
   "source": [
    "import numpy as np\n",
    "import heapq\n",
    "from collections import deque "
   ]
  },
  {
   "cell_type": "code",
   "execution_count": 2,
   "id": "0e024bf4",
   "metadata": {},
   "outputs": [
    {
     "name": "stdout",
     "output_type": "stream",
     "text": [
      "69795\n",
      "208437\n"
     ]
    }
   ],
   "source": [
    "# Day 1\n",
    "# Part A\n",
    "calories = [0]\n",
    "with open('day1.txt') as fid:\n",
    "    for line in fid:\n",
    "        if line[0] == '\\n':\n",
    "            calories.append(0)\n",
    "            continue\n",
    "        calories[-1] += int(line[:-1])\n",
    "calories.sort()\n",
    "print(calories[-1])\n",
    "# Part B\n",
    "print(sum(calories[-3:]))"
   ]
  },
  {
   "cell_type": "code",
   "execution_count": 3,
   "id": "fd5c9c69",
   "metadata": {},
   "outputs": [
    {
     "name": "stdout",
     "output_type": "stream",
     "text": [
      "11767\n",
      "13886\n"
     ]
    }
   ],
   "source": [
    "# Day 2\n",
    "# Part A\n",
    "l, r = np.loadtxt('day2.txt', dtype=int, unpack=True,\n",
    "                  converters={0:lambda s: {b'A':1, b'B':2, b'C':3}[s], 1:lambda s: {b'X':1, b'Y':2, b'Z':3}[s]})\n",
    "print(sum((((r + 3 - l) % 3 + 1) % 3)*3 + r))\n",
    "# Part B\n",
    "print(sum((r - 1)*3 +  (l + r) % 3 + 1))\n"
   ]
  },
  {
   "cell_type": "code",
   "execution_count": 4,
   "id": "fa834560",
   "metadata": {},
   "outputs": [
    {
     "name": "stdout",
     "output_type": "stream",
     "text": [
      "7824\n",
      "2798\n"
     ]
    }
   ],
   "source": [
    "# Day 3\n",
    "# Part A\n",
    "with open('day3.txt') as fid:\n",
    "    all_lines = fid.readlines()\n",
    "priorities = 0\n",
    "for line in all_lines:\n",
    "    n = (len(line) - 1)//2\n",
    "    common_letter = (set(line[:n]) & set(line[n:-1])).pop()\n",
    "    priorities += ord(common_letter) - (96 if common_letter.islower() else 38)\n",
    "print(priorities)\n",
    "# Part B\n",
    "priorities = 0\n",
    "for j in range(len(all_lines)//3):\n",
    "    common_letter = (set(all_lines[3*j + 0][:-1]) & set(all_lines[3*j + 1][:-1]) & set(all_lines[3*j + 2][:-1])).pop()\n",
    "    priorities += ord(common_letter) - (96 if common_letter.islower() else 38)\n",
    "print(priorities)\n",
    "        "
   ]
  },
  {
   "cell_type": "code",
   "execution_count": 5,
   "id": "93ecd5bd",
   "metadata": {},
   "outputs": [
    {
     "name": "stdout",
     "output_type": "stream",
     "text": [
      "602\n",
      "891\n"
     ]
    }
   ],
   "source": [
    "# Day 4\n",
    "# Part A\n",
    "with open('day4.txt') as fid:\n",
    "    data = np.array([list(map(int, couple.split('-'))) for couple in fid.read().strip().replace(',','-').split('\\n')], dtype=int)\n",
    "print((((data[:,3] >= data[:,1]) & (data[:,2] <= data[:,0])) | ((data[:,3] <= data[:,1]) & (data[:,2] >= data[:,0]))).sum())\n",
    "# Part B\n",
    "print((np.maximum(data[:,0], data[:,2]) <= np.minimum(data[:,1], data[:,3])).sum())"
   ]
  },
  {
   "cell_type": "code",
   "execution_count": 6,
   "id": "f8b11a86",
   "metadata": {},
   "outputs": [
    {
     "name": "stdout",
     "output_type": "stream",
     "text": [
      "BSDMQFLSP\n",
      "PGSQBFLDP\n"
     ]
    }
   ],
   "source": [
    "# Day 5\n",
    "# Part A\n",
    "with open('day5.txt') as fid:\n",
    "    stacks_ini_lines, movement = fid.read().split('\\n\\n')\n",
    "stacks = ['']*10\n",
    "for line in stacks_ini_lines.split('\\n')[:-1]:\n",
    "    for j in range(1, 10):\n",
    "        stacks[j] += line[4*(j - 1) + 1]\n",
    "stacks = [s.strip()[::-1] for s in stacks]\n",
    "\n",
    "def get_top_crates_after_movement(stacks, movements, order=1):\n",
    "    for line in movement.strip().split('\\n'):\n",
    "        tmp = line.split()\n",
    "        n, fro, to = int(tmp[1]), int(tmp[3]), int(tmp[5])\n",
    "        stacks[fro], crates_on_crane = stacks[fro][:-n], stacks[fro][-n:]\n",
    "        stacks[to] += crates_on_crane[::order]\n",
    "    return ''.join([stacks[j][-1] for j in range(1, 10)])\n",
    "\n",
    "for order in [-1, 1]:\n",
    "    print(get_top_crates_after_movement([s for s in stacks], movement.strip().split('\\n'), order))"
   ]
  },
  {
   "cell_type": "code",
   "execution_count": 7,
   "id": "03d25347",
   "metadata": {},
   "outputs": [
    {
     "name": "stdout",
     "output_type": "stream",
     "text": [
      "1647\n",
      "2447\n"
     ]
    }
   ],
   "source": [
    "# Day 6\n",
    "# Part A\n",
    "with open('day6.txt') as fid:\n",
    "    data = fid.read()\n",
    "for i in range(4, len(data)):\n",
    "    if len(set(data[i-4:i])) == 4:\n",
    "        break\n",
    "print(i)\n",
    "# Part B\n",
    "for i in range(14, len(data)):\n",
    "    if len(set(data[i-14:i])) == 14:\n",
    "        break\n",
    "print(i)"
   ]
  },
  {
   "cell_type": "code",
   "execution_count": 8,
   "id": "0849ed34",
   "metadata": {},
   "outputs": [
    {
     "name": "stdout",
     "output_type": "stream",
     "text": [
      "1647\n",
      "2447\n"
     ]
    }
   ],
   "source": [
    "# Day 6, fastest version: 642 µs vs 2.01 ms \n",
    "from collections import defaultdict\n",
    "with open('day6.txt', 'rb') as f:\n",
    "    data = f.read()\n",
    "def index_of_unique_substring(occurences=1):\n",
    "    n_unique = 0\n",
    "    last_index_of_letter = defaultdict(lambda: -occurences)\n",
    "    for i, c in enumerate(data):\n",
    "        last_index, last_index_of_letter[c] = last_index_of_letter[c], i\n",
    "        n_unique = n_unique + 1 if last_index < i - n_unique else i - last_index\n",
    "        if n_unique == occurences:\n",
    "            return i + 1\n",
    "# Part A\n",
    "print(index_of_unique_substring(4))\n",
    "# Part B\n",
    "print(index_of_unique_substring(14))"
   ]
  },
  {
   "cell_type": "code",
   "execution_count": 9,
   "id": "a16ade06",
   "metadata": {},
   "outputs": [
    {
     "name": "stdout",
     "output_type": "stream",
     "text": [
      "1232307\n",
      "7268994\n"
     ]
    }
   ],
   "source": [
    "# Day 7\n",
    "# Part A\n",
    "with open('day7.txt') as fid:\n",
    "    commands = fid.read().strip().split('\\n')[::-1]\n",
    "all_dir = []\n",
    "path = []\n",
    "while (commands):\n",
    "    cmd = commands.pop()\n",
    "    if cmd[:4] == '$ cd':\n",
    "        name = cmd[5:]\n",
    "        if name == '..':\n",
    "            path.pop()\n",
    "        elif name == '/':\n",
    "            path.append('root')\n",
    "        else:\n",
    "            path.append(name)\n",
    "    elif cmd[:4] == '$ ls':\n",
    "        size_in_dir = 0\n",
    "        while commands and commands[-1][0] != '$':\n",
    "            cmd = commands.pop()        \n",
    "            int_or_dir, name = cmd.split()\n",
    "            if int_or_dir != 'dir':\n",
    "                size_in_dir += int(int_or_dir)\n",
    "        level = len(path) - 1\n",
    "        while (level >= len(all_dir)):\n",
    "            all_dir.append(defaultdict(int))\n",
    "        all_dir[level]['/'.join(path)] = size_in_dir\n",
    "\n",
    "for level in range(len(all_dir) - 1, 0, -1):\n",
    "    for key, val in all_dir[level].items():\n",
    "        parent = key[:key.rfind('/')]\n",
    "        all_dir[level - 1][parent] += val\n",
    "\n",
    "single_dict = {key:val for d in all_dir for key,val in d.items()}\n",
    "\n",
    "print(sum([val for val in single_dict.values() if val <= 100000]))\n",
    "\n",
    "# Part B\n",
    "space_needed = 30000000 - (70000000 - single_dict['root'])\n",
    "diff = single_dict['root'] - space_needed\n",
    "for key, val in single_dict.items():\n",
    "    newdiff = val - space_needed\n",
    "    if newdiff > 0 and newdiff < diff:\n",
    "        diff = newdiff\n",
    "print(diff + space_needed)"
   ]
  },
  {
   "cell_type": "code",
   "execution_count": 10,
   "id": "9456a7f0",
   "metadata": {},
   "outputs": [
    {
     "name": "stdout",
     "output_type": "stream",
     "text": [
      "1845\n",
      "230112\n"
     ]
    }
   ],
   "source": [
    "# Day 8\n",
    "# Part A\n",
    "forrest = np.loadtxt('day8.txt', dtype=int, converters={0:lambda s: [int(c) - 48 for c in s]})\n",
    "visible = np.zeros(forrest.shape, dtype=bool)\n",
    "N = forrest.shape[0]\n",
    "    \n",
    "for jj in range(N):\n",
    "    max_lft_rgt_top_bot = [-1, -1, -1, -1]\n",
    "    for ii in range(N):\n",
    "        for index_max, (j, i) in enumerate([(jj, ii), (jj, N - ii - 1), (ii, jj), (N - ii - 1, jj)]):\n",
    "            if forrest[j, i] > max_lft_rgt_top_bot[index_max]:\n",
    "                visible[j, i] = True\n",
    "                max_lft_rgt_top_bot[index_max] = forrest[j, i]\n",
    "\n",
    "print(visible.sum().sum())\n",
    "\n",
    "# Part B\n",
    "priority_queue = [(-(N-j-1)*j*(N-i-1)*i, i, j, 0) for i in range(1, N - 1) for j in range(1, N - 1)]\n",
    "heapq.heapify(priority_queue)\n",
    "\n",
    "pot, i, j, directions_tested = heapq.heappop(priority_queue)\n",
    "count = 0\n",
    "while True:\n",
    "    count += 1\n",
    "    #pot, i, j, directions_tested = heapq.heappop(priority_queue)\n",
    "    if directions_tested == 0:\n",
    "        for ii in range(i + 1, N):\n",
    "            if forrest[j, ii] >= forrest[j, i]:\n",
    "                break\n",
    "        pot = (ii - i)*pot//(N - i - 1)\n",
    "    elif directions_tested == 1:\n",
    "        for ii in range(i - 1, -1, -1):\n",
    "            if forrest[j, ii] >= forrest[j, i]:\n",
    "                break\n",
    "        pot = (i - ii)*pot//i\n",
    "    elif directions_tested == 2:\n",
    "        for jj in range(j + 1, N):\n",
    "            if forrest[jj, i] >= forrest[j, i]:\n",
    "                break\n",
    "        pot = (jj - j)*pot//(N - j - 1)\n",
    "    elif directions_tested == 3:\n",
    "        for jj in range(j - 1, -1, -1):\n",
    "            if forrest[jj, i] >= forrest[j, i]:\n",
    "                break\n",
    "        pot = (j - jj)*pot//j\n",
    "    elif directions_tested == 4:\n",
    "        # Done!\n",
    "        #print(-pot, count, count/(4*(N-2)**2))\n",
    "        print(-pot)\n",
    "        break\n",
    "#    print(directions_tested, i, j, pot, [a, b, c, d], a*b*c*d)\n",
    "    directions_tested += 1\n",
    "    pot, i, j, directions_tested = heapq.heappushpop(priority_queue, (pot, i, j, directions_tested))\n",
    "\n"
   ]
  },
  {
   "cell_type": "code",
   "execution_count": 11,
   "id": "7f36e72e",
   "metadata": {},
   "outputs": [
    {
     "name": "stdout",
     "output_type": "stream",
     "text": [
      "6284\n",
      "2661\n"
     ]
    }
   ],
   "source": [
    "# Day 9\n",
    "# Part A\n",
    "# 284 ms ± 6.53 ms per loop (mean ± std. dev. of 7 runs, 1 loop each)\n",
    "with open('day9.txt') as fid:\n",
    "    data = fid.read().strip().split('\\n')\n",
    "posH = np.array([0, 0], dtype=int)\n",
    "posT = np.array([0, 0], dtype=int)\n",
    "visited = {tuple(posT)}\n",
    "direction_map = {'R': np.array(( 1,  0), dtype=int), \n",
    "                 'L': np.array((-1,  0), dtype=int),\n",
    "                 'U': np.array(( 0,  1), dtype=int),\n",
    "                 'D': np.array(( 0, -1), dtype=int)}\n",
    "\n",
    "def print_board(posH, posT, N=6):\n",
    "    print('\\n')\n",
    "    for j in range(N - 2, -1, -1):\n",
    "        s = ''\n",
    "        for i in range(N):\n",
    "            if posH[0] == i and posH[1] == j:\n",
    "                s += 'H'\n",
    "            elif posT[0] == i and posT[1] == j:\n",
    "                s += 'T'\n",
    "            else:\n",
    "                s += '.'\n",
    "        print(s)\n",
    "\n",
    "def compute_Tadd(diff):\n",
    "    if abs(diff[0]) > 1 or abs(diff[1]) > 1 :\n",
    "        # move\n",
    "        if diff[0] == 0 or diff[1] == 0:\n",
    "            # Straight move:        \n",
    "            Tadd = (diff//2)\n",
    "        else:\n",
    "            # Diagonal move\n",
    "            Tadd = np.sign(diff)\n",
    "    else:\n",
    "        Tadd = np.array([0, 0], dtype=int)\n",
    "    return Tadd\n",
    "\n",
    "Taddcache = np.empty((5, 5, 2), dtype=int)\n",
    "for i in range(-2, 3):\n",
    "    for j in range(-2, 3):\n",
    "        diff = np.array([i, j], dtype=int)\n",
    "        Taddcache[i, j] = compute_Tadd(diff)\n",
    "\n",
    "for move in data:\n",
    "    direction, repeat = move.split()\n",
    "    Hadd = direction_map[direction]\n",
    "    for r in range(int(repeat)):\n",
    "        posH += Hadd\n",
    "        diff = posH - posT\n",
    "        Tadd = Taddcache[diff[0], diff[1]]\n",
    "        posT += Tadd\n",
    "        visited.add(tuple(posT))\n",
    "print(len(visited))\n",
    "\n",
    "# Part B\n",
    "robe = np.zeros((10, 2), dtype=int)\n",
    "visited = {tuple(robe[9])}\n",
    "for move in data:\n",
    "    direction, repeat = move.split()\n",
    "    Hadd = direction_map[direction]\n",
    "    for r in range(int(repeat)):\n",
    "        robe[0] += Hadd\n",
    "        for j in range(9):\n",
    "            diff = robe[j] - robe[j + 1]\n",
    "            robe[j + 1] += Taddcache[diff[0], diff[1]]\n",
    "        visited.add(tuple(robe[9]))\n",
    "print(len(visited))"
   ]
  },
  {
   "cell_type": "code",
   "execution_count": 12,
   "id": "9837e8fc",
   "metadata": {},
   "outputs": [
    {
     "name": "stdout",
     "output_type": "stream",
     "text": [
      "13860\n",
      "###..####.#..#.####..##....##..##..###..\n",
      "#..#....#.#..#.#....#..#....#.#..#.#..#.\n",
      "#..#...#..####.###..#.......#.#....###..\n",
      "###...#...#..#.#....#.##....#.#....#..#.\n",
      "#.#..#....#..#.#....#..#.#..#.#..#.#..#.\n",
      "#..#.####.#..#.#.....###..##...##..###..\n"
     ]
    }
   ],
   "source": [
    "# Day 10\n",
    "# Part A\n",
    "with open('day10.txt') as fid:\n",
    "    ops = fid.read().strip().split('\\n')\n",
    "\n",
    "x = 1\n",
    "cycle = iters = result = 0\n",
    "for op in ops:\n",
    "    if op[0] == 'n':\n",
    "        cycle += 1\n",
    "    else:\n",
    "        cycle += 2\n",
    "    if cycle >= 20 + iters*40:\n",
    "        result += x*(20 + iters*40)\n",
    "        iters += 1\n",
    "    if op[0] != 'n':\n",
    "        x += int(op[5:])\n",
    "print(result)\n",
    "#Part B\n",
    "x = 1\n",
    "cycle = 0\n",
    "display = []\n",
    "for op in ops:\n",
    "    if op[0] == 'n':\n",
    "        n_cycles = 1        \n",
    "    else:\n",
    "        n_cycles = 2\n",
    "    for j in range(n_cycles):\n",
    "        hpos = cycle % 40\n",
    "        if hpos + 1 == x or hpos == x or hpos - 1 == x:\n",
    "            display.append('#')\n",
    "        else:\n",
    "            display.append('.')\n",
    "        cycle += 1\n",
    "    if op[0] != 'n':\n",
    "        x += int(op[5:])\n",
    "        \n",
    "for j in range(6):\n",
    "    print(''.join(display[j*40:((j + 1)*40)]))\n",
    "\n",
    "#RZHFGJCB"
   ]
  },
  {
   "cell_type": "code",
   "execution_count": null,
   "id": "74d6cd43",
   "metadata": {},
   "outputs": [],
   "source": []
  }
 ],
 "metadata": {
  "kernelspec": {
   "display_name": "Python 3 (ipykernel)",
   "language": "python",
   "name": "python3"
  },
  "language_info": {
   "codemirror_mode": {
    "name": "ipython",
    "version": 3
   },
   "file_extension": ".py",
   "mimetype": "text/x-python",
   "name": "python",
   "nbconvert_exporter": "python",
   "pygments_lexer": "ipython3",
   "version": "3.9.7"
  }
 },
 "nbformat": 4,
 "nbformat_minor": 5
}
