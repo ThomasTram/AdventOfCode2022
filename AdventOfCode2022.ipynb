{
 "cells": [
  {
   "cell_type": "code",
   "execution_count": 9,
   "id": "310b68c3",
   "metadata": {},
   "outputs": [],
   "source": [
    "import numpy as np\n",
    "import heapq"
   ]
  },
  {
   "cell_type": "code",
   "execution_count": 2,
   "id": "0e024bf4",
   "metadata": {},
   "outputs": [
    {
     "name": "stdout",
     "output_type": "stream",
     "text": [
      "69795\n",
      "208437\n"
     ]
    }
   ],
   "source": [
    "# Day 1\n",
    "# Part A\n",
    "calories = [0]\n",
    "with open('day1.txt') as fid:\n",
    "    for line in fid:\n",
    "        if line[0] == '\\n':\n",
    "            calories.append(0)\n",
    "            continue\n",
    "        calories[-1] += int(line[:-1])\n",
    "calories.sort()\n",
    "print(calories[-1])\n",
    "# Part B\n",
    "print(sum(calories[-3:]))"
   ]
  },
  {
   "cell_type": "code",
   "execution_count": 36,
   "id": "c4557657",
   "metadata": {},
   "outputs": [
    {
     "name": "stdout",
     "output_type": "stream",
     "text": [
      "11767\n",
      "13886\n"
     ]
    }
   ],
   "source": [
    "# Day 2\n",
    "# Part A\n",
    "l, r = np.loadtxt('day2.txt', dtype=int, unpack=True,\n",
    "                  converters={0:lambda s: {b'A':1, b'B':2, b'C':3}[s], 1:lambda s: {b'X':1, b'Y':2, b'Z':3}[s]})\n",
    "print(sum((((r + 3 - l) % 3 + 1) % 3)*3 + r))\n",
    "# Part B\n",
    "print(sum( (r - 1)*3 +  (l + r) % 3 + 1))\n"
   ]
  },
  {
   "cell_type": "code",
   "execution_count": null,
   "id": "badb9b4c",
   "metadata": {},
   "outputs": [],
   "source": []
  }
 ],
 "metadata": {
  "kernelspec": {
   "display_name": "Python 3 (ipykernel)",
   "language": "python",
   "name": "python3"
  },
  "language_info": {
   "codemirror_mode": {
    "name": "ipython",
    "version": 3
   },
   "file_extension": ".py",
   "mimetype": "text/x-python",
   "name": "python",
   "nbconvert_exporter": "python",
   "pygments_lexer": "ipython3",
   "version": "3.9.7"
  }
 },
 "nbformat": 4,
 "nbformat_minor": 5
}
