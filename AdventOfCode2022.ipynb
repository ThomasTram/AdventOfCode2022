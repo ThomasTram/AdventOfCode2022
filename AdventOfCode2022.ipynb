{
 "cells": [
  {
   "cell_type": "code",
   "execution_count": 1,
   "id": "310b68c3",
   "metadata": {},
   "outputs": [],
   "source": [
    "import numpy as np\n",
    "import heapq\n",
    "from collections import deque "
   ]
  },
  {
   "cell_type": "code",
   "execution_count": 2,
   "id": "0e024bf4",
   "metadata": {},
   "outputs": [
    {
     "name": "stdout",
     "output_type": "stream",
     "text": [
      "69795\n",
      "208437\n"
     ]
    }
   ],
   "source": [
    "# Day 1\n",
    "# Part A\n",
    "calories = [0]\n",
    "with open('day1.txt') as fid:\n",
    "    for line in fid:\n",
    "        if line[0] == '\\n':\n",
    "            calories.append(0)\n",
    "            continue\n",
    "        calories[-1] += int(line[:-1])\n",
    "calories.sort()\n",
    "print(calories[-1])\n",
    "# Part B\n",
    "print(sum(calories[-3:]))"
   ]
  },
  {
   "cell_type": "code",
   "execution_count": 3,
   "id": "fd5c9c69",
   "metadata": {},
   "outputs": [
    {
     "name": "stdout",
     "output_type": "stream",
     "text": [
      "11767\n",
      "13886\n"
     ]
    }
   ],
   "source": [
    "# Day 2\n",
    "# Part A\n",
    "l, r = np.loadtxt('day2.txt', dtype=int, unpack=True,\n",
    "                  converters={0:lambda s: {b'A':1, b'B':2, b'C':3}[s], 1:lambda s: {b'X':1, b'Y':2, b'Z':3}[s]})\n",
    "print(sum((((r + 3 - l) % 3 + 1) % 3)*3 + r))\n",
    "# Part B\n",
    "print(sum((r - 1)*3 +  (l + r) % 3 + 1))\n"
   ]
  },
  {
   "cell_type": "code",
   "execution_count": 4,
   "id": "fa834560",
   "metadata": {},
   "outputs": [
    {
     "name": "stdout",
     "output_type": "stream",
     "text": [
      "7824\n",
      "2798\n"
     ]
    }
   ],
   "source": [
    "# Day 3\n",
    "# Part A\n",
    "with open('day3.txt') as fid:\n",
    "    all_lines = fid.readlines()\n",
    "priorities = 0\n",
    "for line in all_lines:\n",
    "    n = (len(line) - 1)//2\n",
    "    common_letter = (set(line[:n]) & set(line[n:-1])).pop()\n",
    "    priorities += ord(common_letter) - (96 if common_letter.islower() else 38)\n",
    "print(priorities)\n",
    "# Part B\n",
    "priorities = 0\n",
    "for j in range(len(all_lines)//3):\n",
    "    common_letter = (set(all_lines[3*j + 0][:-1]) & set(all_lines[3*j + 1][:-1]) & set(all_lines[3*j + 2][:-1])).pop()\n",
    "    priorities += ord(common_letter) - (96 if common_letter.islower() else 38)\n",
    "print(priorities)\n",
    "        "
   ]
  },
  {
   "cell_type": "code",
   "execution_count": 5,
   "id": "93ecd5bd",
   "metadata": {},
   "outputs": [
    {
     "name": "stdout",
     "output_type": "stream",
     "text": [
      "602\n",
      "891\n"
     ]
    }
   ],
   "source": [
    "# Day 4\n",
    "# Part A\n",
    "with open('day4.txt') as fid:\n",
    "    data = np.array([list(map(int, couple.split('-'))) for couple in fid.read().strip().replace(',','-').split('\\n')], dtype=int)\n",
    "print((((data[:,3] >= data[:,1]) & (data[:,2] <= data[:,0])) | ((data[:,3] <= data[:,1]) & (data[:,2] >= data[:,0]))).sum())\n",
    "# Part B\n",
    "print((np.maximum(data[:,0], data[:,2]) <= np.minimum(data[:,1], data[:,3])).sum())"
   ]
  },
  {
   "cell_type": "code",
   "execution_count": 6,
   "id": "f8b11a86",
   "metadata": {},
   "outputs": [
    {
     "name": "stdout",
     "output_type": "stream",
     "text": [
      "BSDMQFLSP\n",
      "PGSQBFLDP\n"
     ]
    }
   ],
   "source": [
    "# Day 5\n",
    "# Part A\n",
    "with open('day5.txt') as fid:\n",
    "    stacks_ini_lines, movement = fid.read().split('\\n\\n')\n",
    "stacks = ['']*10\n",
    "for line in stacks_ini_lines.split('\\n')[:-1]:\n",
    "    for j in range(1, 10):\n",
    "        stacks[j] += line[4*(j - 1) + 1]\n",
    "stacks = [s.strip()[::-1] for s in stacks]\n",
    "\n",
    "def get_top_crates_after_movement(stacks, movements, order=1):\n",
    "    for line in movement.strip().split('\\n'):\n",
    "        tmp = line.split()\n",
    "        n, fro, to = int(tmp[1]), int(tmp[3]), int(tmp[5])\n",
    "        stacks[fro], crates_on_crane = stacks[fro][:-n], stacks[fro][-n:]\n",
    "        stacks[to] += crates_on_crane[::order]\n",
    "    return ''.join([stacks[j][-1] for j in range(1, 10)])\n",
    "\n",
    "for order in [-1, 1]:\n",
    "    print(get_top_crates_after_movement([s for s in stacks], movement.strip().split('\\n'), order))"
   ]
  },
  {
   "cell_type": "code",
   "execution_count": 7,
   "id": "03d25347",
   "metadata": {},
   "outputs": [
    {
     "name": "stdout",
     "output_type": "stream",
     "text": [
      "1647\n",
      "2447\n"
     ]
    }
   ],
   "source": [
    "# Day 6\n",
    "# Part A\n",
    "with open('day6.txt') as fid:\n",
    "    data = fid.read()\n",
    "for i in range(4, len(data)):\n",
    "    if len(set(data[i-4:i])) == 4:\n",
    "        break\n",
    "print(i)\n",
    "# Part B\n",
    "for i in range(14, len(data)):\n",
    "    if len(set(data[i-14:i])) == 14:\n",
    "        break\n",
    "print(i)"
   ]
  },
  {
   "cell_type": "code",
   "execution_count": 8,
   "id": "0849ed34",
   "metadata": {},
   "outputs": [
    {
     "name": "stdout",
     "output_type": "stream",
     "text": [
      "1647\n",
      "2447\n"
     ]
    }
   ],
   "source": [
    "# Day 6, fastest version: 642 µs vs 2.01 ms \n",
    "from collections import defaultdict\n",
    "with open('day6.txt', 'rb') as f:\n",
    "    data = f.read()\n",
    "def index_of_unique_substring(occurences=1):\n",
    "    n_unique = 0\n",
    "    last_index_of_letter = defaultdict(lambda: -occurences)\n",
    "    for i, c in enumerate(data):\n",
    "        last_index, last_index_of_letter[c] = last_index_of_letter[c], i\n",
    "        n_unique = n_unique + 1 if last_index < i - n_unique else i - last_index\n",
    "        if n_unique == occurences:\n",
    "            return i + 1\n",
    "# Part A\n",
    "print(index_of_unique_substring(4))\n",
    "# Part B\n",
    "print(index_of_unique_substring(14))"
   ]
  },
  {
   "cell_type": "code",
   "execution_count": 9,
   "id": "a16ade06",
   "metadata": {},
   "outputs": [
    {
     "name": "stdout",
     "output_type": "stream",
     "text": [
      "1232307\n",
      "7268994\n"
     ]
    }
   ],
   "source": [
    "# Day 7\n",
    "# Part A\n",
    "with open('day7.txt') as fid:\n",
    "    commands = fid.read().strip().split('\\n')[::-1]\n",
    "all_dir = []\n",
    "path = []\n",
    "while (commands):\n",
    "    cmd = commands.pop()\n",
    "    if cmd[:4] == '$ cd':\n",
    "        name = cmd[5:]\n",
    "        if name == '..':\n",
    "            path.pop()\n",
    "        elif name == '/':\n",
    "            path.append('root')\n",
    "        else:\n",
    "            path.append(name)\n",
    "    elif cmd[:4] == '$ ls':\n",
    "        size_in_dir = 0\n",
    "        while commands and commands[-1][0] != '$':\n",
    "            cmd = commands.pop()        \n",
    "            int_or_dir, name = cmd.split()\n",
    "            if int_or_dir != 'dir':\n",
    "                size_in_dir += int(int_or_dir)\n",
    "        level = len(path) - 1\n",
    "        while (level >= len(all_dir)):\n",
    "            all_dir.append(defaultdict(int))\n",
    "        all_dir[level]['/'.join(path)] = size_in_dir\n",
    "\n",
    "for level in range(len(all_dir) - 1, 0, -1):\n",
    "    for key, val in all_dir[level].items():\n",
    "        parent = key[:key.rfind('/')]\n",
    "        all_dir[level - 1][parent] += val\n",
    "\n",
    "single_dict = {key:val for d in all_dir for key,val in d.items()}\n",
    "\n",
    "print(sum([val for val in single_dict.values() if val <= 100000]))\n",
    "\n",
    "# Part B\n",
    "space_needed = 30000000 - (70000000 - single_dict['root'])\n",
    "diff = single_dict['root'] - space_needed\n",
    "for key, val in single_dict.items():\n",
    "    newdiff = val - space_needed\n",
    "    if newdiff > 0 and newdiff < diff:\n",
    "        diff = newdiff\n",
    "print(diff + space_needed)"
   ]
  },
  {
   "cell_type": "code",
   "execution_count": 10,
   "id": "9456a7f0",
   "metadata": {},
   "outputs": [
    {
     "name": "stdout",
     "output_type": "stream",
     "text": [
      "1845\n",
      "230112\n"
     ]
    }
   ],
   "source": [
    "# Day 8\n",
    "# Part A\n",
    "forrest = np.loadtxt('day8.txt', dtype=int, converters={0:lambda s: [int(c) - 48 for c in s]})\n",
    "visible = np.zeros(forrest.shape, dtype=bool)\n",
    "N = forrest.shape[0]\n",
    "    \n",
    "for jj in range(N):\n",
    "    max_lft_rgt_top_bot = [-1, -1, -1, -1]\n",
    "    for ii in range(N):\n",
    "        for index_max, (j, i) in enumerate([(jj, ii), (jj, N - ii - 1), (ii, jj), (N - ii - 1, jj)]):\n",
    "            if forrest[j, i] > max_lft_rgt_top_bot[index_max]:\n",
    "                visible[j, i] = True\n",
    "                max_lft_rgt_top_bot[index_max] = forrest[j, i]\n",
    "\n",
    "print(visible.sum().sum())\n",
    "\n",
    "# Part B\n",
    "priority_queue = [(-(N-j-1)*j*(N-i-1)*i, i, j, 0) for i in range(1, N - 1) for j in range(1, N - 1)]\n",
    "heapq.heapify(priority_queue)\n",
    "\n",
    "pot, i, j, directions_tested = heapq.heappop(priority_queue)\n",
    "count = 0\n",
    "while True:\n",
    "    count += 1\n",
    "    #pot, i, j, directions_tested = heapq.heappop(priority_queue)\n",
    "    if directions_tested == 0:\n",
    "        for ii in range(i + 1, N):\n",
    "            if forrest[j, ii] >= forrest[j, i]:\n",
    "                break\n",
    "        pot = (ii - i)*pot//(N - i - 1)\n",
    "    elif directions_tested == 1:\n",
    "        for ii in range(i - 1, -1, -1):\n",
    "            if forrest[j, ii] >= forrest[j, i]:\n",
    "                break\n",
    "        pot = (i - ii)*pot//i\n",
    "    elif directions_tested == 2:\n",
    "        for jj in range(j + 1, N):\n",
    "            if forrest[jj, i] >= forrest[j, i]:\n",
    "                break\n",
    "        pot = (jj - j)*pot//(N - j - 1)\n",
    "    elif directions_tested == 3:\n",
    "        for jj in range(j - 1, -1, -1):\n",
    "            if forrest[jj, i] >= forrest[j, i]:\n",
    "                break\n",
    "        pot = (j - jj)*pot//j\n",
    "    elif directions_tested == 4:\n",
    "        # Done!\n",
    "        #print(-pot, count, count/(4*(N-2)**2))\n",
    "        print(-pot)\n",
    "        break\n",
    "#    print(directions_tested, i, j, pot, [a, b, c, d], a*b*c*d)\n",
    "    directions_tested += 1\n",
    "    pot, i, j, directions_tested = heapq.heappushpop(priority_queue, (pot, i, j, directions_tested))\n",
    "\n"
   ]
  },
  {
   "cell_type": "code",
   "execution_count": 11,
   "id": "7f36e72e",
   "metadata": {},
   "outputs": [
    {
     "name": "stdout",
     "output_type": "stream",
     "text": [
      "6284\n",
      "2661\n"
     ]
    }
   ],
   "source": [
    "# Day 9\n",
    "# Part A\n",
    "# 284 ms ± 6.53 ms per loop (mean ± std. dev. of 7 runs, 1 loop each)\n",
    "with open('day9.txt') as fid:\n",
    "    data = fid.read().strip().split('\\n')\n",
    "posH = np.array([0, 0], dtype=int)\n",
    "posT = np.array([0, 0], dtype=int)\n",
    "visited = {tuple(posT)}\n",
    "direction_map = {'R': np.array(( 1,  0), dtype=int), \n",
    "                 'L': np.array((-1,  0), dtype=int),\n",
    "                 'U': np.array(( 0,  1), dtype=int),\n",
    "                 'D': np.array(( 0, -1), dtype=int)}\n",
    "\n",
    "def print_board(posH, posT, N=6):\n",
    "    print('\\n')\n",
    "    for j in range(N - 2, -1, -1):\n",
    "        s = ''\n",
    "        for i in range(N):\n",
    "            if posH[0] == i and posH[1] == j:\n",
    "                s += 'H'\n",
    "            elif posT[0] == i and posT[1] == j:\n",
    "                s += 'T'\n",
    "            else:\n",
    "                s += '.'\n",
    "        print(s)\n",
    "\n",
    "def compute_Tadd(diff):\n",
    "    if abs(diff[0]) > 1 or abs(diff[1]) > 1 :\n",
    "        # move\n",
    "        if diff[0] == 0 or diff[1] == 0:\n",
    "            # Straight move:        \n",
    "            Tadd = (diff//2)\n",
    "        else:\n",
    "            # Diagonal move\n",
    "            Tadd = np.sign(diff)\n",
    "    else:\n",
    "        Tadd = np.array([0, 0], dtype=int)\n",
    "    return Tadd\n",
    "\n",
    "Taddcache = np.empty((5, 5, 2), dtype=int)\n",
    "for i in range(-2, 3):\n",
    "    for j in range(-2, 3):\n",
    "        diff = np.array([i, j], dtype=int)\n",
    "        Taddcache[i, j] = compute_Tadd(diff)\n",
    "\n",
    "for move in data:\n",
    "    direction, repeat = move.split()\n",
    "    Hadd = direction_map[direction]\n",
    "    for r in range(int(repeat)):\n",
    "        posH += Hadd\n",
    "        diff = posH - posT\n",
    "        Tadd = Taddcache[diff[0], diff[1]]\n",
    "        posT += Tadd\n",
    "        visited.add(tuple(posT))\n",
    "print(len(visited))\n",
    "\n",
    "# Part B\n",
    "robe = np.zeros((10, 2), dtype=int)\n",
    "visited = {tuple(robe[9])}\n",
    "for move in data:\n",
    "    direction, repeat = move.split()\n",
    "    Hadd = direction_map[direction]\n",
    "    for r in range(int(repeat)):\n",
    "        robe[0] += Hadd\n",
    "        for j in range(9):\n",
    "            diff = robe[j] - robe[j + 1]\n",
    "            robe[j + 1] += Taddcache[diff[0], diff[1]]\n",
    "        visited.add(tuple(robe[9]))\n",
    "print(len(visited))"
   ]
  },
  {
   "cell_type": "code",
   "execution_count": 12,
   "id": "9837e8fc",
   "metadata": {},
   "outputs": [
    {
     "name": "stdout",
     "output_type": "stream",
     "text": [
      "13860\n",
      "###..####.#..#.####..##....##..##..###..\n",
      "#..#....#.#..#.#....#..#....#.#..#.#..#.\n",
      "#..#...#..####.###..#.......#.#....###..\n",
      "###...#...#..#.#....#.##....#.#....#..#.\n",
      "#.#..#....#..#.#....#..#.#..#.#..#.#..#.\n",
      "#..#.####.#..#.#.....###..##...##..###..\n"
     ]
    }
   ],
   "source": [
    "# Day 10\n",
    "# Part A\n",
    "with open('day10.txt') as fid:\n",
    "    ops = fid.read().strip().split('\\n')\n",
    "\n",
    "x = 1\n",
    "cycle = iters = result = 0\n",
    "for op in ops:\n",
    "    if op[0] == 'n':\n",
    "        cycle += 1\n",
    "    else:\n",
    "        cycle += 2\n",
    "    if cycle >= 20 + iters*40:\n",
    "        result += x*(20 + iters*40)\n",
    "        iters += 1\n",
    "    if op[0] != 'n':\n",
    "        x += int(op[5:])\n",
    "print(result)\n",
    "#Part B\n",
    "x = 1\n",
    "cycle = 0\n",
    "display = []\n",
    "for op in ops:\n",
    "    if op[0] == 'n':\n",
    "        n_cycles = 1        \n",
    "    else:\n",
    "        n_cycles = 2\n",
    "    for j in range(n_cycles):\n",
    "        hpos = cycle % 40\n",
    "        if hpos + 1 == x or hpos == x or hpos - 1 == x:\n",
    "            display.append('#')\n",
    "        else:\n",
    "            display.append('.')\n",
    "        cycle += 1\n",
    "    if op[0] != 'n':\n",
    "        x += int(op[5:])\n",
    "        \n",
    "for j in range(6):\n",
    "    print(''.join(display[j*40:((j + 1)*40)]))\n",
    "\n",
    "#RZHFGJCB"
   ]
  },
  {
   "cell_type": "code",
   "execution_count": 13,
   "id": "20d8630f",
   "metadata": {},
   "outputs": [
    {
     "name": "stdout",
     "output_type": "stream",
     "text": [
      "100345\n",
      "28537348205\n"
     ]
    }
   ],
   "source": [
    "# Day 11\n",
    "# Part A\n",
    "from collections import namedtuple\n",
    "import copy\n",
    "MonkeyClass = namedtuple('monkey_class', ['id', 'items', 'operation1', 'operation2',\n",
    "                                          'test_divisor',\n",
    "                                         'true_throw', 'false_throw'])\n",
    "def parse_monkey(monkey):\n",
    "    mlines = monkey.split('\\n')\n",
    "    out = MonkeyClass(\n",
    "        int(mlines[0][7]), \n",
    "        [int(w) for w in mlines[1][18:].strip().split(',')],\n",
    "        eval(f'lambda old:({mlines[2][19:]})//3'),\n",
    "        eval(f'lambda old:{mlines[2][19:]}'),\n",
    "        int(mlines[3][21:]),\n",
    "        int(mlines[4][29]),\n",
    "        int(mlines[5][30]))\n",
    "    return out\n",
    "\n",
    "with open('day11.txt') as fid:\n",
    "    ini_monkeys = [parse_monkey(m) for m in fid.read().strip().split('\\n\\n')]\n",
    "\n",
    "monkeys = copy.deepcopy(ini_monkeys)\n",
    "#print(monkeys)\n",
    "\n",
    "inspections = [0]*len(monkeys)\n",
    "for round in range(20):\n",
    "    for monkey_index, monkey in enumerate(monkeys):\n",
    "        for index in range(len(monkey.items)):\n",
    "            monkey.items[index] = monkey.operation1(monkey.items[index])\n",
    "            if monkey.items[index] % monkey.test_divisor == 0:\n",
    "                monkeys[monkey.true_throw].items.append(monkey.items[index])\n",
    "            else:\n",
    "                monkeys[monkey.false_throw].items.append(monkey.items[index])\n",
    "        inspections[monkey_index] += len(monkey.items)\n",
    "        monkey.items.clear()\n",
    "\n",
    "print(np.prod(sorted(inspections)[-2:]))\n",
    "\n",
    "# Part B\n",
    "monkeys = copy.deepcopy(ini_monkeys)\n",
    "\n",
    "array = []\n",
    "for monkey in monkeys:\n",
    "    for index in range(len(monkey.items)):\n",
    "        #array.append([monkey.items[index]])\n",
    "        w = monkey.items[index]\n",
    "        z_list = [w % m.test_divisor for m in monkeys]\n",
    "        array.append(z_list)\n",
    "        monkey.items[index] = len(array) - 1\n",
    "        \n",
    "        \n",
    "\n",
    "inspections = [0]*len(monkeys)\n",
    "for round in range(10000):\n",
    "    for monkey_index, monkey in enumerate(monkeys):\n",
    "        for index, item_index in enumerate(monkey.items):\n",
    "            # Update item_index for each divisor\n",
    "            for monkey_index_inner, monkey_inner in enumerate(monkeys):\n",
    "                val = array[item_index][monkey_index_inner]\n",
    "                array[item_index][monkey_index_inner] = monkey.operation2(val) % monkey_inner.test_divisor\n",
    "            \n",
    "            if array[item_index][monkey_index] == 0:\n",
    "                monkeys[monkey.true_throw].items.append(monkey.items[index])\n",
    "            else:\n",
    "                monkeys[monkey.false_throw].items.append(monkey.items[index])\n",
    "\n",
    "        inspections[monkey_index] += len(monkey.items)\n",
    "        monkey.items.clear()\n",
    "print(np.prod(sorted(inspections)[-2:]))"
   ]
  },
  {
   "cell_type": "code",
   "execution_count": 14,
   "id": "91b65707",
   "metadata": {},
   "outputs": [
    {
     "name": "stdout",
     "output_type": "stream",
     "text": [
      "done in 206 steps\n",
      "206 6995\n",
      "[[204 203 202 ...  40  41  42]\n",
      " [205 204 203 ...  39  40  41]\n",
      " [206 205 204 ...  38  39  40]\n",
      " ...\n",
      " [  0   0   0 ...  38  39  40]\n",
      " [  0   0   0 ...  39  40  41]\n",
      " [  0   0   0 ...  40  41  42]]\n"
     ]
    },
    {
     "data": {
      "image/png": "[encoded data removed]",
      "text/plain": [
       "<Figure size 432x288 with 1 Axes>"
      ]
     },
     "metadata": {
      "needs_background": "light"
     },
     "output_type": "display_data"
    },
    {
     "data": {
      "image/png": "[encoded data removed]",
      "text/plain": [
       "<Figure size 432x288 with 1 Axes>"
      ]
     },
     "metadata": {
      "needs_background": "light"
     },
     "output_type": "display_data"
    }
   ],
   "source": [
    "# Day 12 plots\n",
    "with open('day12.txt') as fid:\n",
    "    height = np.array([[ord(c) - ord('a') for c in line] for line in fid.read().strip().split('\\n')], dtype=int)\n",
    "\n",
    "idSj, idSi = np.where(height == ord('S') - ord('a'))\n",
    "idSj, idSi = idSj[0], idSi[0]\n",
    "\n",
    "idEj, idEi = np.where(height == ord('E') - ord('a'))\n",
    "idEj, idEi = idEj[0], idEi[0]\n",
    "\n",
    "height[idSj, idSi] = ord('a') - ord('a')\n",
    "height[idEj, idEi] = ord('z') - ord('a')\n",
    "\n",
    "priority_queue = []\n",
    "heapq.heappush(priority_queue, (0, idEj, idEi))\n",
    "\n",
    "visited = np.zeros(height.shape, dtype=bool)\n",
    "visited[idEj, idEi] = True\n",
    "\n",
    "distance_map = np.zeros(height.shape, dtype=int)\n",
    "\n",
    "count = 0\n",
    "while True:\n",
    "    count += 1\n",
    "    dist, j, i = heapq.heappop(priority_queue)\n",
    "    #print(f'dist is {dist} at {j}, {i}')\n",
    "    #print(iteration, dist, j, i)\n",
    "    if j == idSj and i == idSi:\n",
    "        print(f'done in {dist} steps')\n",
    "        break\n",
    "    for move in [(1,0), (0, 1), (-1, 0), (0, -1)]:\n",
    "        jj, ii = j + move[0], i + move[1]\n",
    "        if jj < 0 or ii < 0 or jj >= height.shape[0] or ii >= height.shape[1]:\n",
    "            continue\n",
    "        if visited[jj, ii]:\n",
    "            continue\n",
    "        if height[jj, ii] > height[j, i] + 1:\n",
    "            continue\n",
    "        # Acceptable move\n",
    "        visited[jj, ii] = True\n",
    "        distance_map[jj, ii] = dist + 1\n",
    "        #print(f'push {dist + 1} at {jj}, {ii} to queue')\n",
    "        heapq.heappush(priority_queue, (dist + 1, jj, ii))\n",
    "print(dist, count)\n",
    "import matplotlib.pyplot as plt\n",
    "plt.imshow(height)\n",
    "#plt.colorbar()\n",
    "plt.figure()\n",
    "plt.imshow(distance_map)\n",
    "#plt.colorbar()\n",
    "print(distance_map)\n",
    "\n",
    "# Part B\n"
   ]
  },
  {
   "cell_type": "code",
   "execution_count": 15,
   "id": "74042491",
   "metadata": {},
   "outputs": [
    {
     "name": "stdout",
     "output_type": "stream",
     "text": [
      "528\n",
      "522\n"
     ]
    }
   ],
   "source": [
    "# Day 12\n",
    "# Part A\n",
    "import heapq\n",
    "with open('day12.txt') as fid:\n",
    "    height = np.array([[ord(c) - ord('a') for c in line] for line in fid.read().strip().split('\\n')], dtype=int)\n",
    "\n",
    "idSj, idSi = np.where(height == ord('S') - ord('a'))\n",
    "idSj, idSi = idSj[0], idSi[0]\n",
    "\n",
    "idEj, idEi = np.where(height == ord('E') - ord('a'))\n",
    "idEj, idEi = idEj[0], idEi[0]\n",
    "\n",
    "height[idSj, idSi] = ord('a') - ord('a')\n",
    "height[idEj, idEi] = ord('z') - ord('a')\n",
    "\n",
    "priority_queue = []\n",
    "heapq.heappush(priority_queue, (0, idEj, idEi))\n",
    "\n",
    "visited = np.zeros(height.shape, dtype=bool)\n",
    "visited[idEj, idEi] = True\n",
    "\n",
    "dist_to_goals = {}\n",
    "while True:\n",
    "    dist, j, i = heapq.heappop(priority_queue)\n",
    "    if j == idSj and i == idSi:\n",
    "        dist_to_goals['partA'] = dist\n",
    "        if len(dist_to_goals) == 2:\n",
    "            break\n",
    "    if height[j, i] == 0 and 'partB' not in dist_to_goals:\n",
    "        dist_to_goals['partB'] = dist\n",
    "        if len(dist_to_goals) == 2:\n",
    "            break\n",
    "\n",
    "    for move in [(1,0), (0, 1), (-1, 0), (0, -1)]:\n",
    "        jj, ii = j + move[0], i + move[1]\n",
    "        if jj < 0 or ii < 0 or jj >= height.shape[0] or ii >= height.shape[1]:\n",
    "            continue\n",
    "        if visited[jj, ii]:\n",
    "            continue\n",
    "        if height[jj, ii] < height[j, i] - 1:\n",
    "            continue\n",
    "        # Acceptable move\n",
    "        visited[jj, ii] = True\n",
    "        heapq.heappush(priority_queue, (dist + 1, jj, ii))\n",
    "\n",
    "print(dist_to_goals['partA'])\n",
    "# Part B:\n",
    "print(dist_to_goals['partB'])\n"
   ]
  },
  {
   "cell_type": "code",
   "execution_count": 16,
   "id": "2433f72a",
   "metadata": {},
   "outputs": [
    {
     "name": "stdout",
     "output_type": "stream",
     "text": [
      "6395\n",
      "24921\n"
     ]
    }
   ],
   "source": [
    "import functools\n",
    "# Day 13\n",
    "# Part A\n",
    "with open('day13.txt') as fid:\n",
    "    pairs = [eval(e) for d in fid.read().strip().split('\\n\\n') for e in d.split('\\n')]\n",
    "\n",
    "\n",
    "def is_less(left, right):\n",
    "    if isinstance(left, int) and isinstance(right, int):\n",
    "        return np.sign(right - left)\n",
    "    else:\n",
    "        if isinstance(left, int):\n",
    "            left = [left]\n",
    "        if isinstance(right, int):\n",
    "            right = [right]\n",
    "        for i in range(min(len(left), len(right))):\n",
    "            cmp = is_less(left[i], right[i])\n",
    "            if cmp == 0:\n",
    "                continue\n",
    "            else:\n",
    "                return cmp\n",
    "        return is_less(len(left), len(right))\n",
    "    \n",
    "print(sum([i + 1 for i in range(len(pairs)//2) if is_less(pairs[2*i], pairs[2*i + 1]) >= 0]))\n",
    "\n",
    "#Part B\n",
    "t = sorted(pairs + [[[2]], [[6]]], key=functools.cmp_to_key(is_less), reverse=True)\n",
    "s = [(index + 1) for index, packet in enumerate(t) if packet == [[2]] or packet == [[6]]]\n",
    "print(s[0]*s[1])\n"
   ]
  },
  {
   "cell_type": "code",
   "execution_count": 17,
   "id": "09a2b03f",
   "metadata": {},
   "outputs": [
    {
     "name": "stdout",
     "output_type": "stream",
     "text": [
      "1513\n",
      "count 4878\n",
      "count 67939\n",
      "22646\n"
     ]
    },
    {
     "data": {
      "image/png": "[encoded data removed]",
      "text/plain": [
       "<Figure size 432x288 with 1 Axes>"
      ]
     },
     "metadata": {
      "needs_background": "light"
     },
     "output_type": "display_data"
    },
    {
     "data": {
      "image/png": "[encoded data removed]",
      "text/plain": [
       "<Figure size 432x288 with 1 Axes>"
      ]
     },
     "metadata": {
      "needs_background": "light"
     },
     "output_type": "display_data"
    }
   ],
   "source": [
    "# Day 14\n",
    "# Part A\n",
    "with open('day14.txt') as fid:\n",
    "    paths = fid.read().strip().split('\\n')\n",
    "\n",
    "x_0, x_1 = [], []\n",
    "y_0, y_1 = [], []\n",
    "for p in paths:\n",
    "#    tuplist = [(int(xy[0]), int(xy[1])) for tubstring in p.split(' -> ') for xy in tubstring.split(',')]\n",
    "    w = [[int(s) for s in tmp.split(',')] for tmp in p.split(' -> ')]\n",
    "    for i in range(len(w) - 1):\n",
    "        xmin = min(w[i + 0][0], w[i + 1][0])\n",
    "        xmax = max(w[i + 0][0], w[i + 1][0])\n",
    "        ymin = min(w[i + 0][1], w[i + 1][1])\n",
    "        ymax = max(w[i + 0][1], w[i + 1][1])\n",
    "        x_0.append(xmin)\n",
    "        x_1.append(xmax + 1)\n",
    "        y_0.append(ymin)\n",
    "        y_1.append(ymax + 1)\n",
    "\n",
    "ymax = max(y_1) + 1\n",
    "xmax = max(x_1) + ymax\n",
    "data = np.zeros((ymax, xmax), dtype=int)\n",
    "for i in range(len(x_0)):\n",
    "    x0i, x0f = x_0[i], x_1[i]\n",
    "    y0i, y0f = y_0[i], y_1[i]\n",
    "    data[y0i:y0f, x0i:x0f] = 1\n",
    "\n",
    "def fall(x, y, infinite_floor):\n",
    "    global count\n",
    "    count += 1\n",
    "    if y == ymax:\n",
    "        return infinite_floor\n",
    "    if data[y, x]:\n",
    "        return True\n",
    "    for dx, dy in [(0, 1), (-1, 1), (1,1)]:\n",
    "        xnew, ynew = x + dx, y + dy\n",
    "        if not fall(xnew, ynew, infinite_floor):\n",
    "            return False\n",
    "    data[y, x] = 2\n",
    "    return True\n",
    "\n",
    "count = 0\n",
    "fall(500, 0, False)\n",
    "plt.figure()\n",
    "plt.imshow(data[:,(500 - ymax):(500 + ymax)])\n",
    "print((data == 2).sum().sum())\n",
    "print('count',count)        \n",
    "\n",
    "count = 0\n",
    "data[data == 2] = 0\n",
    "fall(500, 0, True)\n",
    "print('count',count)        \n",
    "plt.figure()\n",
    "plt.imshow(data[:,(500 - ymax):(500 + ymax)])\n",
    "print((data == 2).sum().sum())\n",
    "\n",
    "\n"
   ]
  },
  {
   "cell_type": "code",
   "execution_count": 18,
   "id": "f478cc76",
   "metadata": {},
   "outputs": [
    {
     "name": "stdout",
     "output_type": "stream",
     "text": [
      "5607466\n",
      "12543202766584\n"
     ]
    }
   ],
   "source": [
    "# Day 15\n",
    "# Part A\n",
    "from collections import namedtuple, defaultdict\n",
    "with open('day15.txt') as fid:\n",
    "    sensor_data = fid.read().strip().split('\\n')\n",
    "    \n",
    "sensors = []\n",
    "beacons = set()\n",
    "Sensor = namedtuple('Sensor', ['x', 'y', 'radius'])\n",
    "for data in sensor_data:\n",
    "    substrings = data.split('=')[1:]\n",
    "    delim = [',', ':', ',']\n",
    "    tmp = []\n",
    "    for index, s in enumerate(substrings):\n",
    "        end = len(s) if index == 3 else s.find(delim[index])\n",
    "        tmp.append(int(s[:end]))\n",
    "    radius = abs(tmp[2] - tmp[0]) + abs(tmp[3] - tmp[1])\n",
    "    sensors.append(Sensor(tmp[0], tmp[1], radius))\n",
    "    beacons.add((tmp[2], tmp[3]))\n",
    "    \n",
    "y_row = 2000000\n",
    "excluded = set()\n",
    "for sensor in sensors:\n",
    "    x, y, radius = sensor.x, sensor.y, sensor.radius\n",
    "    width = radius - abs(y - y_row)\n",
    "    if width < 0:\n",
    "        continue\n",
    "    xlo = x - width\n",
    "    xhi = x + width\n",
    "    for xx in range(xlo, xhi + 1):\n",
    "        excluded.add((xx, y_row))\n",
    "\n",
    "excluded -= beacons\n",
    "print(len(excluded))\n",
    "\n",
    "#Part 2\n",
    "shadow_points = defaultdict(int)\n",
    "\n",
    "shadow_lines = {'NE':[], 'SE':[], 'SW':[], 'NW':[]}\n",
    "\n",
    "limits = 4_000_000\n",
    "for sensor in sensors:\n",
    "    x, y, radius = sensor.x, sensor.y, sensor.radius\n",
    "    sr = radius + 1\n",
    "    shadow_lines['NE'].append((x - sr, y, x, y + sr))\n",
    "    shadow_lines['SE'].append((x, y + sr, x + sr, y))\n",
    "    shadow_lines['SW'].append((x + sr, y, x, y - sr))\n",
    "    shadow_lines['NW'].append((x, y - sr, x - sr, y))\n",
    "\n",
    "def intersect(l1, l2):\n",
    "    # Assume l1 has NE or SW, positive inclination\n",
    "    # Assume l2 has SE or NW, negative inclination\n",
    "    b1 = l1[1] - l1[0]\n",
    "    b2 = l2[1] + l2[0]\n",
    "    \n",
    "    if (b1 + b2) % 2 or (b2 - b1) % 2:\n",
    "        return\n",
    "    x, y = (b2 - b1)//2, (b2 + b1)//2\n",
    "    if (min(l1[0], l1[2]) <= x <= max(l1[0], l1[2]) and\n",
    "        min(l1[1], l1[3]) <= y <= max(l1[1], l1[3]) and\n",
    "        min(l2[0], l2[2]) <= x <= max(l2[0], l2[2]) and\n",
    "        min(l2[1], l2[3]) <= y <= max(l2[1], l2[3])):\n",
    "        return (x, y)\n",
    "\n",
    "intersecters = defaultdict(int)\n",
    "for l1 in shadow_lines['NE'] + shadow_lines['SW']:\n",
    "    for l2 in shadow_lines['SE'] + shadow_lines['NW']:\n",
    "        item = intersect(l1, l2)\n",
    "        if item:\n",
    "            intersecters[item] += 1\n",
    "\n",
    "shadow_points = {k: v for k, v in sorted(intersecters.items(), key=lambda item: item[1], reverse=True)}\n",
    "for key, val in shadow_points.items():\n",
    "    ok = True\n",
    "    for sensor in sensors:\n",
    "        x, y, radius = sensor.x, sensor.y, sensor.radius\n",
    "        if (abs(x - key[0]) + abs(y - key[1])) <= radius:\n",
    "            ok = False\n",
    "            break\n",
    "    if ok:\n",
    "        print(key[0]*4_000_000 + key[1])\n",
    "        break            "
   ]
  },
  {
   "cell_type": "code",
   "execution_count": null,
   "id": "c87f5b05",
   "metadata": {},
   "outputs": [],
   "source": []
  }
 ],
 "metadata": {
  "kernelspec": {
   "display_name": "Python 3 (ipykernel)",
   "language": "python",
   "name": "python3"
  },
  "language_info": {
   "codemirror_mode": {
    "name": "ipython",
    "version": 3
   },
   "file_extension": ".py",
   "mimetype": "text/x-python",
   "name": "python",
   "nbconvert_exporter": "python",
   "pygments_lexer": "ipython3",
   "version": "3.9.7"
  }
 },
 "nbformat": 4,
 "nbformat_minor": 5
}
